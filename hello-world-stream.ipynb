{
 "cells": [
  {
   "cell_type": "code",
   "execution_count": null,
   "metadata": {},
   "outputs": [],
   "source": [
    "%load ./hello-world.ipynb"
   ]
  },
  {
   "cell_type": "code",
   "execution_count": null,
   "metadata": {},
   "outputs": [],
   "source": [
    "import dev.langchain4j.model.chat.StreamingChatLanguageModel;\n",
    "import dev.langchain4j.model.openai.OpenAiStreamingChatModel;\n",
    "import dev.langchain4j.data.message.AiMessage;\n",
    "import dev.langchain4j.model.output.Response;\n",
    "import dev.langchain4j.model.StreamingResponseHandler;\n",
    "import java.util.concurrent.BlockingQueue;\n",
    "\n",
    "BlockingQueue<String> queue = new LinkedBlockingQueue<>();\n",
    "private static final String END_SIGNAL = \"END\"; // 終了シグナル用\n",
    "\n",
    "StreamingChatLanguageModel model = OpenAiStreamingChatModel.builder()\n",
    "    .apiKey(API_KEY)\n",
    "    .modelName(GPT_4_O_MINI)\n",
    "    .logRequests(true)\n",
    "    .logResponses(true)    \n",
    "    .build();\n",
    "\n",
    "String userMessage = \"こんにちは\";\n",
    "\n",
    "model.generate(userMessage, new StreamingResponseHandler<AiMessage>() {\n",
    "\n",
    "    @Override\n",
    "    public void onNext(String token) {\n",
    "        try {\n",
    "            queue.put(token);\n",
    "        } catch (InterruptedException e) {\n",
    "            Thread.currentThread().interrupt();\n",
    "        }\n",
    "    }\n",
    "\n",
    "    @Override\n",
    "    public void onComplete(Response<AiMessage> response) {\n",
    "        try {\n",
    "            queue.put(END_SIGNAL);\n",
    "            System.out.println(\"onComplete: \" + response);\n",
    "        } catch (InterruptedException e) {\n",
    "            Thread.currentThread().interrupt();\n",
    "        }\n",
    "    }\n",
    "\n",
    "    @Override\n",
    "    public void onError(Throwable error) {\n",
    "        error.printStackTrace();\n",
    "    }\n",
    "});\n",
    "\n",
    "while (true) {\n",
    "    String token = queue.poll(1, TimeUnit.SECONDS);\n",
    "    if (token != null) {\n",
    "        if (token.equals(END_SIGNAL)) {\n",
    "            break;\n",
    "        }\n",
    "        System.out.println(\"Polled token: \" + token);\n",
    "    }\n",
    "}"
   ]
  }
 ],
 "metadata": {
  "kernelspec": {
   "display_name": "Java (rjk 2.1.0)",
   "language": "java",
   "name": "rapaio-jupyter-kernel"
  },
  "language_info": {
   "codemirror_mode": "java",
   "file_extension": ".jshell",
   "mimetype": "text/x-java-source",
   "name": "java",
   "nbconvert_exporter": "script",
   "pygments_lexer": "java",
   "version": "22.0.2+9-jvmci-b01"
  }
 },
 "nbformat": 4,
 "nbformat_minor": 2
}
