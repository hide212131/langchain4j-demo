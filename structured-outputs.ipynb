{
 "cells": [
  {
   "cell_type": "code",
   "execution_count": null,
   "metadata": {},
   "outputs": [],
   "source": [
    "%load ./hello-world.ipynb"
   ]
  },
  {
   "cell_type": "code",
   "execution_count": 38,
   "metadata": {},
   "outputs": [],
   "source": [
    "import dev.langchain4j.agent.tool.Tool;\n",
    "import dev.langchain4j.model.output.structured.Description;\n",
    "import dev.langchain4j.service.AiServices;\n",
    "import dev.langchain4j.service.UserMessage;\n",
    "import dev.langchain4j.service.SystemMessage;\n",
    "\n",
    "import java.time.LocalDate;"
   ]
  },
  {
   "cell_type": "markdown",
   "metadata": {},
   "source": [
    "## POJO as a return type\n",
    "https://docs.langchain4j.dev/tutorials/ai-services#pojo-as-a-return-type"
   ]
  },
  {
   "cell_type": "code",
   "execution_count": 39,
   "metadata": {},
   "outputs": [],
   "source": [
    "import dev.langchain4j.model.chat.request.ResponseFormatType;\n",
    "\n",
    "ChatLanguageModel strictModel = OpenAiChatModel.builder()\n",
    "    .apiKey(apiKey)\n",
    "    .modelName(\"gpt-4o-mini\")\n",
    "    .logRequests(true)\n",
    "    .logResponses(true)\n",
    "    .responseFormat(\"json_schema\") // JSONスキーマ出力を強制する\n",
    "    .strictJsonSchema(true) // JSONスキーマ出力を強制する\n",
    "    .build();"
   ]
  },
  {
   "cell_type": "code",
   "execution_count": null,
   "metadata": {},
   "outputs": [],
   "source": [
    "record WeatherInfo(LocalDate date, String weather) {};\n",
    "interface WeatherForecast {    \n",
    "    @SystemMessage(\"天気の情報を取得\")\n",
    "    WeatherInfo getWetherInfo(String text);\n",
    "}\n",
    "WeatherForecast focast = AiServices.create(WeatherForecast.class, strictModel);\n",
    "WeatherInfo info = focast.getWetherInfo(\"本日（2024/10/27）の天気は曇りです。\");\n",
    "info // WeatherInfo[date=2024-10-27, weather=曇り]"
   ]
  },
  {
   "cell_type": "code",
   "execution_count": null,
   "metadata": {},
   "outputs": [],
   "source": [
    "@Description(\"住所\")\n",
    "record Address(String street, Integer streetNumber, String city) {}\n",
    "\n",
    "record Person(\n",
    "    String firstName,\n",
    "    String lastName,\n",
    "    LocalDate birthDate,\n",
    "    Address address,\n",
    "    @Description(\"どのような雰囲気の日に生まれたか\") String feeling) {}\n",
    "\n",
    "interface PersonExtractor {\n",
    "    @UserMessage(\"以下のテキストから人物情報を抽出してください。抽出できない場合はnullを返してください。{{it}} \")\n",
    "    Person extractPersonFrom(String text);\n",
    "}\n",
    "\n",
    "PersonExtractor personExtractor = AiServices.create(PersonExtractor.class, \n",
    "    // model);\n",
    "    strictModel);\n",
    "\n",
    "String text = \"\"\"\n",
    "            1968年、独立記念日の響きが薄れゆく中、穏やかな夕暮れの空の下にジョンという名の子供がやってきた。\n",
    "            ドウ姓を名乗るこの新生児は、新たな旅の始まりを告げた。\n",
    "            彼は、スプリングフィールドの中心部に位置する古風な通り、ウィスパリング・パインズ通り345番地に誕生した。\n",
    "            \"\"\";\n",
    "\n",
    "Person person = personExtractor.extractPersonFrom(text);\n",
    "person // Person[firstName=ジョン, lastName=ドウ, birthDate=1968-07-04, address=Address[street=ウィスパリング・パインズ通り, streetNumber=345, city=スプリングフィールド], feeling=穏やかな夕暮れの空の下]"
   ]
  }
 ],
 "metadata": {
  "kernelspec": {
   "display_name": "Java (rjk 2.1.0)",
   "language": "java",
   "name": "rapaio-jupyter-kernel"
  },
  "language_info": {
   "codemirror_mode": "java",
   "file_extension": ".jshell",
   "mimetype": "text/x-java-source",
   "name": "java",
   "nbconvert_exporter": "script",
   "pygments_lexer": "java",
   "version": "22.0.2+9-jvmci-b01"
  }
 },
 "nbformat": 4,
 "nbformat_minor": 2
}
