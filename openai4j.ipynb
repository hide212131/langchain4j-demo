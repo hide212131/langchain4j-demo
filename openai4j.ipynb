{
 "cells": [
  {
   "cell_type": "code",
   "execution_count": 36,
   "metadata": {},
   "outputs": [],
   "source": [
    "String userHomeDir = System.getProperty(\"user.home\");\n",
    "String localRespoUrl = \"file://\" + userHomeDir + \"/.m2/repository/\";"
   ]
  },
  {
   "cell_type": "code",
   "execution_count": 37,
   "metadata": {},
   "outputs": [],
   "source": [
    "%%bash \n",
    "rm -rf \\{userHomeDir}/Library/Jupyter/kernels/rapaio-jupyter-kernel/mima_cache/dev/ai4j/openai4j"
   ]
  },
  {
   "cell_type": "code",
   "execution_count": null,
   "metadata": {},
   "outputs": [],
   "source": [
    "%dependency /add-repo local \\{localRespoUrl} release|never snapshot|always\n",
    "%dependency /add dev.ai4j:openai4j:0.24-SNAPSHOT\n",
    "%dependency /resolve"
   ]
  },
  {
   "cell_type": "code",
   "execution_count": null,
   "metadata": {},
   "outputs": [],
   "source": [
    "%load ./hello-world.ipynb"
   ]
  },
  {
   "cell_type": "code",
   "execution_count": null,
   "metadata": {},
   "outputs": [],
   "source": [
    "import dev.ai4j.openai4j.OpenAiClient;\n",
    "import dev.ai4j.openai4j.chat.ChatCompletionRequest;\n",
    "import dev.ai4j.openai4j.chat.ChatCompletionResponse;\n",
    "\n",
    "OpenAiClient client = OpenAiClient.builder()\n",
    "        .openAiApiKey(OPENAI_API_KEY)\n",
    "        .logRequests()\n",
    "        .logResponses()\n",
    "        .build();\n",
    "\n",
    "ChatCompletionRequest request = ChatCompletionRequest.builder()\n",
    "        .model(\"gpt-4o-mini\")\n",
    "        .addUserMessage(\"こんにちは\")\n",
    "        .build();\n",
    "\n",
    "ChatCompletionResponse response = client.chatCompletion(request).execute();\n",
    "\n",
    "String textResponse = response.content();\n",
    "System.out.println(\"テキスト応答: \" + textResponse);\n"
   ]
  },
  {
   "cell_type": "markdown",
   "metadata": {},
   "source": [
    "## Audio Generation\n",
    "https://platform.openai.com/docs/guides/audio のJava実装\n",
    "openai4jをオーディオ対応にカスタマイズ"
   ]
  },
  {
   "cell_type": "code",
   "execution_count": null,
   "metadata": {},
   "outputs": [],
   "source": [
    "import dev.ai4j.openai4j.OpenAiClient;\n",
    "import dev.ai4j.openai4j.chat.ChatCompletionRequest;\n",
    "import dev.ai4j.openai4j.chat.ChatCompletionResponse;\n",
    "import dev.ai4j.openai4j.chat.AssistantMessage;\n",
    "\n",
    "import javax.sound.sampled.*;\n",
    "import java.io.ByteArrayInputStream;\n",
    "import java.io.FileOutputStream;\n",
    "import java.io.IOException;\n",
    "import java.util.Arrays;\n",
    "import java.util.Base64;\n",
    "import static java.util.Arrays.asList;\n",
    "\n",
    "// Original Code\n",
    "import dev.ai4j.openai4j.chat.AudioSettings;\n",
    "\n",
    "OpenAiClient client = OpenAiClient.builder()\n",
    "        .openAiApiKey(OPENAI_API_KEY)\n",
    "        .logRequests()   // リクエストをログに出力\n",
    "        .logResponses()  // レスポンスをログに出力\n",
    "        .build();\n",
    "\n",
    "var audioSettings = new AudioSettings(\"nova\", \"wav\");\n",
    "\n",
    "ChatCompletionRequest request = ChatCompletionRequest.builder()\n",
    "        .model(\"gpt-4o-audio-preview\")\n",
    "        .addUserMessage(\"こんにちは！今JJUG(ジェイジャグ)の会場にいます。LangChain4jのセッションをします。会場にいる人に短めのご挨拶を\")\n",
    "        .audioSettings(audioSettings)\n",
    "        .modalities(asList(\"text\", \"audio\"))\n",
    "        .build();\n",
    "\n",
    "ChatCompletionResponse response = client.chatCompletion(request).execute();\n",
    "// Original Code\n",
    "AssistantMessage.AudioData audioData = response.choices().get(0).message().audio();\n",
    "String data = audioData.data();\n",
    "\n",
    "byte[] audioBytes = Base64.getDecoder().decode(data);\n",
    "var bais = new ByteArrayInputStream(audioBytes);\n",
    "var audioInputStream = AudioSystem.getAudioInputStream(bais);\n",
    "var audioFormat = audioInputStream.getFormat();\n",
    "var info = new DataLine.Info(Clip.class, audioFormat);\n",
    "var clip = (Clip) AudioSystem.getLine(info);\n",
    "clip.open(audioInputStream);\n",
    "clip.start();\n",
    "while (clip.isRunning()) {\n",
    "    Thread.sleep(100);\n",
    "}\n",
    "clip.close();\n",
    "\n",
    "audioData.transcript()"
   ]
  }
 ],
 "metadata": {
  "kernelspec": {
   "display_name": "Java (rjk 2.1.0)",
   "language": "java",
   "name": "rapaio-jupyter-kernel"
  },
  "language_info": {
   "codemirror_mode": "java",
   "file_extension": ".jshell",
   "mimetype": "text/x-java-source",
   "name": "java",
   "nbconvert_exporter": "script",
   "pygments_lexer": "java",
   "version": "22.0.2+9-jvmci-b01"
  }
 },
 "nbformat": 4,
 "nbformat_minor": 2
}
