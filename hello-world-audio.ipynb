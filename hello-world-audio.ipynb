{
 "cells": [
  {
   "cell_type": "code",
   "execution_count": 1,
   "metadata": {},
   "outputs": [],
   "source": [
    "String userHomeDir = System.getProperty(\"user.home\");\n",
    "String localRespoUrl = \"file://\" + userHomeDir + \"/.m2/repository/\";\n",
    "String langchain4jVersion = \"0.36.0-SNAPSHOT\";\n",
    "String dotenvJavaVersion = \"3.0.2\";"
   ]
  },
  {
   "cell_type": "code",
   "execution_count": 2,
   "metadata": {},
   "outputs": [],
   "source": [
    "%%bash \n",
    "rm -rf \\{userHomeDir}/Library/Jupyter/kernels/rapaio-jupyter-kernel/mima_cache/dev/ai4j/openai4j\n",
    "rm -rf \\{userHomeDir}/Library/Jupyter/kernels/rapaio-jupyter-kernel/mima_cache/dev/langchain4j/langchain4j-open-ai"
   ]
  },
  {
   "cell_type": "code",
   "execution_count": null,
   "metadata": {},
   "outputs": [],
   "source": [
    "%dependency /add-repo local \\{localRespoUrl} release|never snapshot|always\n",
    "%dependency /list-repos\n",
    "%dependency /add dev.ai4j:openai4j:0.23.0-CUSTOM\n",
    "%dependency /add dev.langchain4j:langchain4j-open-ai:0.36.0-CUSTOM // Custom Audio\n",
    "%dependency /resolve\n"
   ]
  },
  {
   "cell_type": "code",
   "execution_count": null,
   "metadata": {},
   "outputs": [],
   "source": [
    "%dependency /add dev.langchain4j:langchain4j:\\{langchain4jVersion}\n",
    "%dependency /add io.github.cdimascio:dotenv-java:\\{dotenvJavaVersion}\n",
    "%dependency /add org.slf4j:slf4j-jdk14:2.0.9\n",
    "%dependency /add ch.qos.logback:logback-classic:1.5.8\n",
    "%dependency /list-dependencies\n",
    "%dependency /resolve"
   ]
  },
  {
   "cell_type": "code",
   "execution_count": 5,
   "metadata": {},
   "outputs": [],
   "source": [
    "import io.github.cdimascio.dotenv.Dotenv;\n",
    "Dotenv dotenv = Dotenv.load();\n",
    "String API_KEY = dotenv.get(\"OPENAI_API_KEY\");\n",
    "String OPENAI_API_KEY = API_KEY;"
   ]
  },
  {
   "cell_type": "code",
   "execution_count": 6,
   "metadata": {},
   "outputs": [],
   "source": [
    "import dev.langchain4j.model.chat.listener.ChatModelListener;\n",
    "import dev.langchain4j.model.chat.listener.ChatModelResponseContext;\n",
    "import dev.langchain4j.model.chat.listener.ChatModelResponse;\n",
    "import dev.langchain4j.model.chat.listener.ChatModelRequest;\n",
    "import dev.langchain4j.data.message.UserMessage;\n",
    "\n",
    "import dev.ai4j.openai4j.OpenAiClient;\n",
    "import dev.ai4j.openai4j.chat.ChatCompletionRequest;\n",
    "import dev.ai4j.openai4j.chat.ChatCompletionResponse;\n",
    "import dev.ai4j.openai4j.chat.AssistantMessage;\n",
    "\n",
    "\n",
    "import javax.sound.sampled.*;\n",
    "import java.io.ByteArrayInputStream;\n",
    "import java.io.FileOutputStream;\n",
    "import java.io.IOException;\n",
    "import java.util.Arrays;\n",
    "import java.util.Base64;\n",
    "import static java.util.Arrays.asList;\n",
    "\n",
    "// Custom Code\n",
    "import dev.ai4j.openai4j.chat.AudioSettings;"
   ]
  },
  {
   "cell_type": "code",
   "execution_count": null,
   "metadata": {},
   "outputs": [],
   "source": [
    "import dev.langchain4j.model.chat.ChatLanguageModel;\n",
    "import dev.langchain4j.model.openai.OpenAiChatModel;\n",
    "import dev.langchain4j.data.message.UserMessage;\n",
    "import dev.langchain4j.data.message.AiMessage;\n",
    "import dev.langchain4j.model.output.Response;\n",
    "\n",
    "import static dev.langchain4j.model.openai.OpenAiChatModelName.GPT_4_O_MINI;\n",
    "\n",
    "var audioSettings = new AudioSettings(\"nova\", \"wav\");\n",
    "var modalities = asList(\"text\", \"audio\");\n",
    "OpenAiClient client = OpenAiClient.builder()\n",
    "        .openAiApiKey(OPENAI_API_KEY)\n",
    "        .logRequests()   // リクエストをログに出力\n",
    "        .logResponses()  // レスポンスをログに出力\n",
    "        .build();\n",
    "\n",
    "UserMessage userMessage = new UserMessage(\"Hello!\");\n",
    "ChatLanguageModel model = OpenAiChatModel.builder()\n",
    "    .apiKey(API_KEY)\n",
    "    .modelName(\"gpt-4o-audio-preview\")\n",
    "    //.modelName(\"gpt-4o-mini\")\n",
    "    //.listeners(List.of(listener))\n",
    "    .logRequests(true)\n",
    "    .logResponses(true) \n",
    "    .audioSettings(audioSettings)\n",
    "    .modalities(modalities)\n",
    "    .build();\n",
    "Response<AiMessage> response = model.generate(userMessage);\n",
    "AssistantMessage.AudioData audioData = (AssistantMessage.AudioData) response.metadata().get(\"audio\");\n",
    "\n",
    "String data = audioData.data();\n",
    "// System.out.println(\"data: \" + data);\n",
    "byte[] audioBytes = Base64.getDecoder().decode(data);          \n",
    "var bais = new ByteArrayInputStream(audioBytes);\n",
    "var audioInputStream = AudioSystem.getAudioInputStream(bais);\n",
    "Clip clip = AudioSystem.getClip();\n",
    "clip.open(audioInputStream);\n",
    "clip.start();\n",
    "while (clip.isRunning()) {\n",
    "    Thread.sleep(100);\n",
    "}\n",
    "clip.close();\n",
    " \n",
    "System.out.println(\"transcript: \" + audioData.transcript());"
   ]
  }
 ],
 "metadata": {
  "kernelspec": {
   "display_name": "Java (rjk 2.1.0)",
   "language": "java",
   "name": "rapaio-jupyter-kernel"
  },
  "language_info": {
   "codemirror_mode": "java",
   "file_extension": ".jshell",
   "mimetype": "text/x-java-source",
   "name": "java",
   "nbconvert_exporter": "script",
   "pygments_lexer": "java",
   "version": "22.0.2+9-jvmci-b01"
  }
 },
 "nbformat": 4,
 "nbformat_minor": 2
}
