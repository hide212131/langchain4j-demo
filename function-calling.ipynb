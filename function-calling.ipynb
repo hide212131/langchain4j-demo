{
 "cells": [
  {
   "cell_type": "code",
   "execution_count": null,
   "metadata": {},
   "outputs": [],
   "source": [
    "%load ./hello-world.ipynb"
   ]
  },
  {
   "cell_type": "code",
   "execution_count": 11,
   "metadata": {},
   "outputs": [],
   "source": [
    "import dev.langchain4j.agent.tool.Tool;\n",
    "import dev.langchain4j.service.AiServices;\n",
    "import dev.langchain4j.service.SystemMessage;\n",
    "import dev.langchain4j.model.chat.request.ResponseFormatType;\n",
    "\n",
    "import java.time.ZoneId;\n",
    "import java.time.LocalDateTime;\n",
    "import java.time.format.DateTimeFormatter;"
   ]
  },
  {
   "cell_type": "code",
   "execution_count": null,
   "metadata": {},
   "outputs": [],
   "source": [
    "interface TimeKeeper {\n",
    "    @SystemMessage(\"指定したタイムゾーンの現在の時刻を何時何分の形式で答えてください\")\n",
    "    String ask(String question);\n",
    "}\n",
    "\n",
    "class Clock {\n",
    "    @Tool\n",
    "    public LocalDateTime getCurrentTimeInTimeZone(String timeZoneId) {\n",
    "        System.out.println(\"タイムゾーン: \" + timeZoneId);\n",
    "        return LocalDateTime.now(ZoneId.of(timeZoneId));\n",
    "    }\n",
    "}\n",
    "\n",
    "TimeKeeper timeKeeper = AiServices.builder(TimeKeeper.class)\n",
    "    .chatLanguageModel(model)\n",
    "    .tools(new Clock())\n",
    "    .build();\n",
    "\n",
    "String answer = timeKeeper.ask(\"ロンドンの時間で今何時？\");\n",
    "System.out.println(answer);  // 例: \"現在の時刻は16:58です\""
   ]
  },
  {
   "cell_type": "code",
   "execution_count": null,
   "metadata": {},
   "outputs": [],
   "source": [
    "interface MathGenius {    \n",
    "    String ask(String question);\n",
    "}\n",
    "\n",
    "class Calculator {\n",
    "    @Tool\n",
    "    public double add(int a, int b) {\n",
    "        return a + b;\n",
    "    }\n",
    "    @Tool\n",
    "    public double squareRoot(double x) {\n",
    "        return Math.sqrt(x);\n",
    "    }\n",
    "}\n",
    "\n",
    "MathGenius mathGenius = AiServices.builder(MathGenius.class)\n",
    "    .chatLanguageModel(model)\n",
    "    .tools(new Calculator())\n",
    "    .build();\n",
    "\n",
    "String answer = mathGenius.ask(\"475695037565 の平方根は？\");\n",
    "answer"
   ]
  },
  {
   "cell_type": "code",
   "execution_count": 18,
   "metadata": {},
   "outputs": [],
   "source": [
    "OpenAiChatModel strictModel = OpenAiChatModel.builder()\n",
    "    .apiKey(apiKey)\n",
    "    .modelName(\"gpt-4o-mini\")\n",
    "    .logRequests(true)\n",
    "    .logResponses(true)\n",
    "    .responseFormat(\"json_schema\") // JSONスキーマ出力を強制する\n",
    "    .strictJsonSchema(true) // JSONスキーマ出力を強制する\n",
    "    .build();"
   ]
  },
  {
   "cell_type": "code",
   "execution_count": null,
   "metadata": {},
   "outputs": [],
   "source": [
    "enum Operation {\n",
    "    ADD, SQUARE_ROOT;\n",
    "}\n",
    "record Calculation(Operation operation, List<Double> numbers) {}\n",
    "\n",
    "interface TextToCalculation {\n",
    "    Calculation classify(String text);\n",
    "}\n",
    "\n",
    "TextToCalculation classifier = AiServices.create(TextToCalculation.class, strictModel);\n",
    "// String question = \"475695037565 の平方根は？\";\n",
    "String question = \"111と222と333の和は？\";\n",
    "Calculation calc = classifier.classify(question);\n",
    "double answer;\n",
    "if (calc.operation() == Operation.SQUARE_ROOT) {\n",
    "    answer = Math.sqrt(calc.numbers().get(0));    \n",
    "} else if (calc.operation() == Operation.ADD) {\n",
    "    answer = calc.numbers().stream().reduce(0.0, Double::sum);\n",
    "}\n",
    "answer"
   ]
  }
 ],
 "metadata": {
  "kernelspec": {
   "display_name": "Java (rjk 2.1.0)",
   "language": "java",
   "name": "rapaio-jupyter-kernel"
  },
  "language_info": {
   "codemirror_mode": "java",
   "file_extension": ".jshell",
   "mimetype": "text/x-java-source",
   "name": "java",
   "nbconvert_exporter": "script",
   "pygments_lexer": "java",
   "version": "22.0.2+9-jvmci-b01"
  }
 },
 "nbformat": 4,
 "nbformat_minor": 2
}
