{
 "cells": [
  {
   "cell_type": "markdown",
   "metadata": {},
   "source": [
    "# Multi Agent Debate Example"
   ]
  },
  {
   "cell_type": "code",
   "execution_count": 1,
   "metadata": {},
   "outputs": [],
   "source": [
    "String userHomeDir = System.getProperty(\"user.home\");\n",
    "String localRespoUrl = \"file://\" + userHomeDir + \"/.m2/repository/\";\n",
    "String langchain4jVersion = \"0.35.0\";\n",
    "String dotenvJavaVersion = \"3.0.2\";"
   ]
  },
  {
   "cell_type": "markdown",
   "metadata": {},
   "source": [
    "add local maven repository"
   ]
  },
  {
   "cell_type": "code",
   "execution_count": null,
   "metadata": {},
   "outputs": [],
   "source": [
    "%dependency /add-repo local \\{localRespoUrl} release|never snapshot|always\n",
    "%dependency /list-repos\n"
   ]
  },
  {
   "cell_type": "markdown",
   "metadata": {},
   "source": [
    "Remove installed package from Jupiter cache"
   ]
  },
  {
   "cell_type": "code",
   "execution_count": 3,
   "metadata": {},
   "outputs": [],
   "source": [
    "%%bash \n",
    "rm -rf \\{userHomeDir}/Library/Jupyter/kernels/rapaio-jupyter-kernel/mima_cache/org/bsc/langgraph4j"
   ]
  },
  {
   "cell_type": "markdown",
   "metadata": {},
   "source": [
    "Install required maven dependencies"
   ]
  },
  {
   "cell_type": "code",
   "execution_count": null,
   "metadata": {},
   "outputs": [],
   "source": [
    "%dependency /add org.slf4j:slf4j-jdk14:2.0.9\n",
    "%dependency /add org.bsc.langgraph4j:langgraph4j-core-jdk8:1.0-20241024\n",
    "%dependency /add org.bsc.langgraph4j:langgraph4j-langchain4j:1.0-20241024\n",
    "%dependency /add org.bsc.langgraph4j:langgraph4j-agent-executor:1.0-20241024\n",
    "%dependency /add dev.langchain4j:langchain4j:\\{langchain4jVersion}\n",
    "%dependency /add dev.langchain4j:langchain4j-open-ai:\\{langchain4jVersion}\n",
    "%dependency /add io.github.cdimascio:dotenv-java:\\{dotenvJavaVersion}\n",
    "\n",
    "%dependency /resolve"
   ]
  },
  {
   "cell_type": "code",
   "execution_count": 5,
   "metadata": {},
   "outputs": [],
   "source": [
    "import io.github.cdimascio.dotenv.Dotenv;\n",
    "Dotenv dotenv = Dotenv.load();\n",
    "String API_KEY = dotenv.get(\"OPENAI_API_KEY\");\n",
    "String OPENAI_API_KEY = API_KEY;"
   ]
  },
  {
   "cell_type": "markdown",
   "metadata": {},
   "source": [
    "Initialize Logger"
   ]
  },
  {
   "cell_type": "code",
   "execution_count": 6,
   "metadata": {},
   "outputs": [],
   "source": [
    "try( var file = new java.io.FileInputStream(\"./logging.properties\")) {\n",
    "    var lm = java.util.logging.LogManager.getLogManager();\n",
    "    lm.checkAccess(); \n",
    "    lm.readConfiguration( file );\n",
    "}\n",
    "\n",
    "var log = org.slf4j.LoggerFactory.getLogger(\"AgentExecutor\");\n"
   ]
  },
  {
   "cell_type": "code",
   "execution_count": 7,
   "metadata": {},
   "outputs": [],
   "source": [
    "import dev.langchain4j.service.AiServices;\n",
    "import dev.langchain4j.service.SystemMessage;\n",
    "import dev.langchain4j.service.UserMessage;\n",
    "import dev.langchain4j.service.V;\n",
    "import dev.langchain4j.model.chat.ChatLanguageModel;\n",
    "import dev.langchain4j.model.openai.OpenAiChatModel;\n",
    "import org.bsc.langgraph4j.StateGraph;\n",
    "import org.bsc.langgraph4j.state.AgentState;\n",
    "import org.bsc.langgraph4j.state.Channel;\n",
    "import org.bsc.langgraph4j.state.AppenderChannel;\n",
    "\n",
    "import java.util.*;\n",
    "import static org.bsc.langgraph4j.StateGraph.END;\n",
    "import static org.bsc.langgraph4j.StateGraph.START;\n",
    "import static org.bsc.langgraph4j.action.AsyncEdgeAction.edge_async;\n",
    "import static org.bsc.langgraph4j.action.AsyncNodeAction.node_async;\n"
   ]
  },
  {
   "cell_type": "code",
   "execution_count": 8,
   "metadata": {},
   "outputs": [],
   "source": [
    "/**\n",
    " * ディベートメッセージ\n",
    " * speaker: 発言者\n",
    " * content: 内容\n",
    " * timestamp: タイムスタンプ\n",
    " */\n",
    " record DebateMessage(String speaker, String content, long timestamp) implements java.io.Serializable {}"
   ]
  },
  {
   "cell_type": "code",
   "execution_count": 9,
   "metadata": {},
   "outputs": [],
   "source": [
    "\n",
    "class DebateState extends AgentState {\n",
    "    static Map<String, Channel<?>> SCHEMA = Map.of(\n",
    "        \"debate_history\", AppenderChannel.<DebateMessage>of(ArrayList::new),  // 議論履歴\n",
    "        \"current_speaker\", Channel.of(() -> \"\"),                             // 現在の発言者\n",
    "        \"turn_count\", Channel.of(() -> 0),                                  // ターン数\n",
    "        \"debate_topic\", Channel.of(() -> \"\")                                // 議論テーマ\n",
    "    );\n",
    "\n",
    "    public DebateState(Map<String, Object> initData) {\n",
    "        super(initData);\n",
    "    }\n",
    "\n",
    "    public List<DebateMessage> getHistory() {\n",
    "        return this.<List<DebateMessage>>value(\"debate_history\").orElseGet(ArrayList::new);\n",
    "    }\n",
    "    \n",
    "    public Optional<String> getCurrentSpeaker() {\n",
    "        return value(\"current_speaker\");\n",
    "    }\n",
    "    \n",
    "    public int getTurnCount() {\n",
    "        return this.<Integer>value(\"turn_count\").orElse(0);\n",
    "    }\n",
    "    \n",
    "    public String getDebateTopic() {\n",
    "        return this.<String>value(\"debate_topic\").orElseThrow();\n",
    "    }\n",
    "}\n"
   ]
  },
  {
   "cell_type": "code",
   "execution_count": 10,
   "metadata": {},
   "outputs": [],
   "source": [
    "// java.util.concurrent.CompletionException: dev.langchain4j.exception.IllegalConfigurationException: Parameter 'role' of method 'generateArgument' should be annotated with @V or @UserMessage or @UserName or @MemoryId\n",
    "\n",
    "interface DebateAgent {\n",
    "    @SystemMessage(\"あなたは{{topic}}についての議論で{{role}}の立場です。\" + \n",
    "                  \"これまでの議論を考慮して、強力な反論を提供してください。\")\n",
    "    @UserMessage(\"\"\"\n",
    "        議題: {{topic}}\n",
    "        これまでの議論:\n",
    "        {{history}}\n",
    "        \n",
    "        あなたの立場からの次の主張を述べてください。\n",
    "        以下の点に注意して発言してください：\n",
    "        - 簡潔で明確な主張を心がけてください\n",
    "        - 相手の前回の発言に対する反論を含めてください\n",
    "        - 具体的な例や証拠を示すと良いでしょう\n",
    "        \"\"\")\n",
    "    String generateArgument(@V(\"role\") String role, @V(\"topic\") String topic, @V(\"history\") String history);\n",
    "}"
   ]
  },
  {
   "cell_type": "code",
   "execution_count": 16,
   "metadata": {},
   "outputs": [],
   "source": [
    "interface JudgeAssistant {  \n",
    "    @UserMessage(\"\"\"\n",
    "        以下の議論を分析し、勝者を決定し、その理由を説明してください：\n",
    "        \n",
    "        ＜議論内容＞\n",
    "        {{history}}\n",
    "        \n",
    "        以下の点を考慮して判断してください：\n",
    "        - 論理的な議論展開\n",
    "        - 証拠や具体例の提示\n",
    "        - 相手の主張に対する効果的な反論\n",
    "        - 主張の一貫性\n",
    "        \n",
    "        結論は以下の形式で示してください：\n",
    "        勝者：[賛成派/反審派]\n",
    "        理由：[詳細な説明]\n",
    "        \"\"\")\n",
    "    String judgeDebate(@V(\"history\") List<DebateMessage> history);    \n",
    "}"
   ]
  },
  {
   "cell_type": "code",
   "execution_count": 17,
   "metadata": {},
   "outputs": [],
   "source": [
    "ChatLanguageModel model = OpenAiChatModel.builder()\n",
    "            .apiKey(OPENAI_API_KEY)\n",
    "            .modelName(\"gpt-4o-mini\")\n",
    "            .logRequests(true)\n",
    "            .logResponses(true)  \n",
    "            .temperature(0.7)\n",
    "            .build();\n",
    "            \n",
    "DebateAgent proAgent = AiServices.builder(DebateAgent.class)\n",
    "            .chatLanguageModel(model)\n",
    "            .build();\n",
    "\n",
    "DebateAgent conAgent = AiServices.builder(DebateAgent.class)\n",
    "            .chatLanguageModel(model)\n",
    "            .build();\n",
    "\n",
    "JudgeAssistant judgeAssistant = AiServices.builder(JudgeAssistant.class)\n",
    "            .chatLanguageModel(model)\n",
    "            .build();\n",
    "\n",
    "private final String debateTopic = \"AIは規制すべきか？\";\n",
    "private final String proRole = \"AI規制推進派\";\n",
    "private final String conRole = \"AI自由開発派\";"
   ]
  },
  {
   "cell_type": "code",
   "execution_count": 18,
   "metadata": {},
   "outputs": [],
   "source": [
    "String formatHistory(List<DebateMessage> history) {\n",
    "        StringBuilder sb = new StringBuilder();\n",
    "        for (DebateMessage msg : history) {\n",
    "            sb.append(msg.speaker())\n",
    "              .append(\": \")\n",
    "              .append(msg.content())\n",
    "              .append(\"\\n\");\n",
    "        }\n",
    "        return sb.toString();\n",
    "    }"
   ]
  },
  {
   "cell_type": "code",
   "execution_count": 20,
   "metadata": {},
   "outputs": [],
   "source": [
    "StateGraph<DebateState> graph = new StateGraph<>(DebateState.SCHEMA, DebateState::new)\n",
    ".addEdge(START, \"pro_turn\")\n",
    "// 賛成側のターン\n",
    ".addNode(\"pro_turn\", node_async( state -> {\n",
    "    try {\n",
    "    String history = formatHistory(state.getHistory());\n",
    "    String argument = proAgent.generateArgument(proRole, debateTopic, history);        \n",
    "    DebateMessage message = new DebateMessage(proRole, argument, System.currentTimeMillis());\n",
    "    log.info( message.toString() );\n",
    "    return Map.of(\n",
    "        \"debate_history\", message,\n",
    "        \"current_speaker\", conRole,\n",
    "        \"turn_count\", state.getTurnCount() + 1\n",
    "    );\n",
    "    } catch( Exception e ) {\n",
    "        e.printStackTrace();\n",
    "        return Map.of();\n",
    "    }\n",
    "}))\n",
    "// 反対側のターン\n",
    ".addNode(\"con_turn\", node_async(state -> {\n",
    "    try {\n",
    "        String history = formatHistory(state.getHistory());\n",
    "        String argument = conAgent.generateArgument(conRole, debateTopic, history);        \n",
    "        DebateMessage message = new DebateMessage(conRole, argument, System.currentTimeMillis());\n",
    "        log.info( message.toString() );\n",
    "        return Map.of(\n",
    "            \"debate_history\", message,\n",
    "            \"current_speaker\", proRole,\n",
    "            \"turn_count\", state.getTurnCount() + 1\n",
    "        );\n",
    "    } catch( Exception e ) {\n",
    "        e.printStackTrace();\n",
    "        return Map.of();\n",
    "    }\n",
    "}\n",
    "    ))\n",
    "    // 判定ノード\n",
    "    .addNode(\"judge\", node_async(state -> {\n",
    "        String result = judgeAssistant.judgeDebate(state.getHistory());\n",
    "        return Map.of(\"debate_result\", result);\n",
    "    }))\n",
    "    // 条件付きエッジの設定\n",
    "    .addConditionalEdges(\n",
    "        \"pro_turn\",\n",
    "        edge_async(state -> state.getTurnCount() >= 6 ? \"judge\" : \"con_turn\"),\n",
    "        Map.of(\"con_turn\", \"con_turn\", \"judge\", \"judge\")\n",
    "    )\n",
    "    .addConditionalEdges(\n",
    "        \"con_turn\", \n",
    "        edge_async(state -> state.getTurnCount() >= 6 ? \"judge\" : \"pro_turn\"),\n",
    "        Map.of(\"pro_turn\", \"pro_turn\", \"judge\", \"judge\")\n",
    "    )\n",
    "    .addEdge(\"judge\", END)"
   ]
  },
  {
   "cell_type": "code",
   "execution_count": null,
   "metadata": {},
   "outputs": [],
   "source": [
    "Map<String, Object> initialState = new HashMap<>();\n",
    "initialState.put(\"turn_count\", 0);\n",
    "initialState.put(\"current_speaker\", \"pro\");\n",
    "initialState.put(\"debate_history\", new ArrayList<DebateMessage>());\n",
    "        \n",
    "var workflow = graph.compile();\n",
    "workflow.invoke(initialState);"
   ]
  }
 ],
 "metadata": {
  "kernelspec": {
   "display_name": "Java (rjk 2.1.0)",
   "language": "java",
   "name": "rapaio-jupyter-kernel"
  },
  "language_info": {
   "codemirror_mode": "java",
   "file_extension": ".jshell",
   "mimetype": "text/x-java-source",
   "name": "java",
   "nbconvert_exporter": "script",
   "pygments_lexer": "java",
   "version": "22.0.2+9-jvmci-b01"
  }
 },
 "nbformat": 4,
 "nbformat_minor": 2
}
